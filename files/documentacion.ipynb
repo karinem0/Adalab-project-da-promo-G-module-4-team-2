{
 "cells": [
  {
   "cell_type": "markdown",
   "metadata": {},
   "source": [
    "DATOS INICIALES:\n",
    "\n",
    "El número de filas que tenemos es 182877, y el número de columnas es 32\n",
    "El DF CSV Hotel tiene duplicados: 63040 \n",
    "\n"
   ]
  },
  {
   "cell_type": "markdown",
   "metadata": {},
   "source": [
    "_______ CSV Hotel: ______\n",
    "\n",
    "| **Columna**                   | **Descripción del Nombre**                                    | **Nº de datos** | **Frecuencia de valores**                                        | **Datos únicos** | **Tipo de valores** | **Datos nulos** | **Datos duplicados** |\n",
    "|-------------------------------|---------------------------------------------------------------|-----------------|------------------------------------------------------------------|------------------|---------------------|-----------------|----------------------|\n",
    "| HOTEL                         | Tipo de hotel                                                 | 182877          | City Hotel: 79330<br>Resort Hotel: 40060                         | 2                | object              | 63487           | 182874               |\n",
    "| IS_CANCELED                   | Reserva cancelada o no cancelada                              | 182877          | False: 75166<br>True: 44224                                      | 2                | object              | 63487           | 182874               |\n",
    "| LEAD_TIME                     | Tiempo en días desde la reserva hasta la fecha de llegada     | 182877          | Ver tabla proporcionada (579 valores únicos)                     | 580              | float64             | 63387           | 182297               |\n",
    "| ARRIVAL_DATE_YEAR             | Año de llegada                                                | 182877          | Ver tabla proporcionada (3 valores únicos)                       | 4                | float64             | 118048          | 182873               |\n",
    "| ARRIVAL_DATE_MONTH            | Mes de llegada                                                | 182877          | Ver tabla proporcionada (16 valores únicos)                      | 16               | object              | 63487           | 182861               |\n",
    "| ARRIVAL_DATE_WEEK_NUMBER      | Número de semana de llegada                                   | 182877          | Ver tabla proporcionada (54 valores únicos)                      | 54               | float64             | 81873           | 182823               |\n",
    "| ARRIVAL_DATE_DAY_OF_MONTH    | Día del mes de llegada                                        | 182877          | Ver tabla proporcionada (32 valores únicos)                      | 32               | float64             | 63606           | 182845               |\n",
    "| STAYS_IN_WEEKEND_NIGHTS       | Número de noches de fin de semana                            | 182877          | Ver tabla proporcionada (117 valores únicos)                     | 118              | float64             | 63387           | 182759               |\n",
    "| STAYS_IN_WEEK_NIGHTS          | Número de noches durante la semana                           | 182877          | Ver tabla proporcionada (135 valores únicos)                     | 136              | float64             | 63387           | 182741               |\n",
    "| ADULTS                        | Número de adultos en la reserva                               | 182877          | Ver tabla proporcionada (31 valores únicos)                      | 31               | float64             | 63449           | 182846               |\n",
    "| CHILDREN                      | Número de niños en la reserva                                 | 182877          | Ver tabla proporcionada (15 valores únicos)                      | 15               | float64             | 113575          | 182862               |\n",
    "| BABIES                        | Número de bebés en la reserva                                 | 182877          | Ver tabla proporcionada (15 valores únicos)                      | 15               | float64             | 63446           | 182862               |\n",
    "| MEAL                          | Tipo de comida incluida en la reserva                         | 182877          | BB: 92310<br>HB: 14463<br>SC: 10650<br>Undefined: 1169<br>FB: 798 | 6                | object              | 63487           | 182871               |\n",
    "| COUNTRY                       | País de origen del cliente                                    | 182877          | Ver tabla proporcionada (163 valores únicos)                     | 163              | object              | 117823          | 182713               |\n",
    "| MARKET_SEGMENT                | Segmento de mercado                                           | 182877          | Online TA: 28331<br>Offline TA/TO: 12116<br>Groups: 10008<br>Direct: 6354<br>Corporate: 2643<br>Complementary: 363<br>Aviation: 118<br>Undefined: 1 | 9                | object              | 122943          | 182868               |\n",
    "| DISTRIBUTION_CHANNEL          | Canal de distribución                                         | 182877          | TA/TO: 86822<br>Direct: 12997<br>Corporate: 5899<br>GDS: 176<br>Undefined: 5 | 6                | object              | 76978           | 182871               |\n",
    "| IS_REPEATED_GUEST             | Cliente repetido o no                                         | 182877          | 0.0: 110730<br>1.0: 3646                                       | 3                | float64             | 68501           | 182874               |\n",
    "| PREVIOUS_CANCELLATIONS        | Número de cancelaciones previas                               | 182877          | Ver tabla proporcionada (22 valores únicos)                      | 22               | float64             | 106649          | 182855               |\n",
    "| PREVIOUS_BOOKINGS_NOT_CANCELED| Número de reservas anteriores no canceladas                    | 182877          | Ver tabla proporcionada (73 valores únicos)                      | 73               | float64             | 63487           | 182803               |\n",
    "| RESERVED_ROOM_TYPE            | Tipo de habitación reservada                                   | 182877          | A: 57202<br>D: 12637<br>E: 4345<br>F: 1907<br>G: 1375<br>B: 746<br>C: 625<br>H: 428<br>P: 6<br>L: 4 | 11               | object              | 103602          | 182866               |\n",
    "| ASSIGNED_ROOM_TYPE            | Tipo de habitación asignada                                   | 182877          | A: 74053<br>D: 25322<br>E: 7806<br>F: 3751<br>G: 2553<br>C: 2375<br>B: 2163<br>H: 712<br>I: 363<br>K: 279<br>P: 12<br>L: 1 | 13               | object              | 63487           | 182864               |\n",
    "| BOOKING_CHANGES               | Número de cambios en la reserva                               | 182877          | Ver tabla proporcionada (23 valores únicos)                      | 23               | float64             | 63459           | 182854               |\n",
    "| AGENT                         | ID del agente de viajes                                       | 182877          | Ver tabla proporcionada (333 valores únicos)                     | 333              | float64             | 114433          | 182832               |\n",
    "| COMPANY                       | ID de la empresa que hizo la reserva                          | 182877          | Ver tabla proporcionada (353 valores únicos)                     | 353              | float64             | 182465          | 182874               |\n",
    "| DAYS_IN_WAITLIST              | Número de días en lista de espera antes de confirmar la reserva | 182877          | Ver tabla proporcionada (128 valores únicos)                     | 128              | float64             | 63487           | 182853               |\n",
    "| CUSTOMER_TYPE                 | Tipo de cliente                                               | 182877          | Transient: 92060<br>Transient-Party: 72604<br>Contract: 4116<br>Group: 1097 | 4                | object              | 63487           | 182871               |\n",
    "| ADR                           | Tarifa diaria promedio                                        | 182877          | Ver tabla proporcionada (8879 valores únicos)                    | 8879             | float64             | 63487           | 182873               |\n",
    "| REQUIRED_CAR_PARKING_SPACES   | Número de plazas de aparcamiento requeridas                   | 182877          | Ver tabla proporcionada (6 valores únicos)                       | 6                | float64             | 63487           | 182852               |\n",
    "| TOTAL_OF_SPECIAL_REQUESTS     | Número total de peticiones especiales                         | 182877          | Ver tabla proporcionada (14 valores únicos)                      | 14               | float64             | 63487           | 182871               |\n",
    "| RESERVATION_STATUS_DATE       | Fecha en que se actualiza el estado de la reserva             | 182877          | Ver tabla proporcionada (1635 valores únicos)                    | 1635             | float64             | 63487           | 182867               |\n"
   ]
  },
  {
   "cell_type": "markdown",
   "metadata": {},
   "source": [
    "CLASIFICACIÓN RESERVED_ROOM_TYPE:\n",
    "\n",
    "| Código | Tipo de Habitación                                       |\n",
    "|--------|----------------------------------------------------------|\n",
    "| A      | Habitación estándar.                                     |\n",
    "| B      | Habitación superior.                                     |\n",
    "| C      | Suite junior.                                            |\n",
    "| D      | Suite ejecutiva.                                         |\n",
    "| E      | Suite presidencial.                                      |\n",
    "| F      | Habitación familiar.                                     |\n",
    "| G      | Habitación con vista al mar.                             |\n",
    "| H      | Habitación con acceso para discapacitados.               |\n",
    "| L      | Suite de lujo.                                           |\n",
    "| P      | Suite panorámica (posiblemente con vistas panorámicas). |\n"
   ]
  },
  {
   "cell_type": "markdown",
   "metadata": {},
   "source": [
    "CLASIFICACIÓN ASIGNED_ROOM_TIPE:\n",
    "\n",
    "| Código | Tipo de Habitación                                       | Cantidad |\n",
    "|--------|----------------------------------------------------------|----------|\n",
    "| 3751   | Desconocido                                              | 3751     |\n",
    "| G      | Habitación con vista al mar                              | 2553     |\n",
    "| C      | Suite junior                                             | 2375     |\n",
    "| B      | Habitación superior                                      | 2163     |\n",
    "| H      | Habitación con acceso para discapacitados                | 712      |\n",
    "| I      | Desconocido                                              | 363      |\n",
    "| K      | Desconocido                                              | 279      |\n",
    "| P      | Suite panorámica (posiblemente con vistas panorámicas)  | 12       |\n",
    "| L      | Suite de lujo                                            | 1        |\n",
    "|        | Total                                                    | 13       |\n"
   ]
  },
  {
   "cell_type": "markdown",
   "metadata": {},
   "source": []
  }
 ],
 "metadata": {
  "kernelspec": {
   "display_name": "Python 3",
   "language": "python",
   "name": "python3"
  },
  "language_info": {
   "name": "python",
   "version": "3.12.2"
  }
 },
 "nbformat": 4,
 "nbformat_minor": 2
}
