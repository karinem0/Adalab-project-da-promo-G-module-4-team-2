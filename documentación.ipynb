{
 "cells": [
  {
   "cell_type": "markdown",
   "metadata": {},
   "source": [
    "## Preguntas que nos podemos hacer:\n",
    "\n",
    "- ¿Cuál es la tasa de cancelación de este hotel?\n",
    "\n",
    "- Ha cambiado la tasa de cancelación con el tiempo.\n",
    "\n",
    "- Se cancelan más las reservas de verano que de invierno. Se cancelan más las reservas de entre semana que las de los fines de semana.\n",
    "\n",
    "- Los clientes que cancelan presentan algún tipo de característica demográfica.\n",
    "\n",
    "- Las reservas que se hacen con mayor anticipación tienen mucho riesgo de cancelarse.\n",
    "\n",
    "- Las reservas que incluyen hijos tienen menor riesgo.\n",
    "\n",
    "- Los usuarios que realizaron algún cambio en su reserva tienen menor riesgo.\n",
    "\n",
    "- Cuando el usuario ha realizado una solicitud especial el riesgo es menor.\n",
    "\n",
    "- Las reservas que tienen un “adr” bajo el riesgo es menor.\n",
    "\n",
    "- Relación con otras variables: Analizar cómo otras variables, como el tipo de comida incluida en la reserva o el número de solicitudes especiales, están relacionadas con las cancelaciones."
   ]
  },
  {
   "cell_type": "markdown",
   "metadata": {},
   "source": [
    "\n",
    "\n",
    "| Columna                        | Descripción                                                          |\n",
    "|--------------------------------|----------------------------------------------------------------------|\n",
    "| hotel                          | Tipo de hotel                                                        |\n",
    "| is_canceled                    | Indica si la reserva fue cancelada (True) o no (False)               |\n",
    "| lead_time                      | Número de días entre la fecha de reserva y la fecha de llegada al hotel |\n",
    "| arrival_date_year              | Año de llegada al hotel                                              |\n",
    "| arrival_date_month             | Mes de llegada al hotel                                               |\n",
    "| arrival_date_week_number       | Número de la semana de llegada al hotel                               |\n",
    "| arrival_date_day_of_month      | Día del mes de llegada al hotel                                       |\n",
    "| stays_in_weekend_nights        | Número de noches que el cliente se quedó durante el fin de semana    |\n",
    "| stays_in_week_nights           | Número de noches que el cliente se quedó durante la semana           |\n",
    "| adults                         | Número de adultos que acompañaban al cliente en la reserva            |\n",
    "| children                       | Número de niños que acompañaban al cliente en la reserva              |\n",
    "| babies                         | Número de bebés que acompañaban al cliente en la reserva             |\n",
    "| meal                           | Tipo de comida incluida en la reserva (BB: Desayuno, HB: Media Pensión, FB: Pensión Completa) |\n",
    "| country                        | País de origen del cliente                                           |\n",
    "| market_segment                 | Segmento de mercado al que pertenece la reserva                      |\n",
    "| distribution_channel           | Canal de distribución utilizado para realizar la reserva             |\n",
    "| is_repeated_guest              | Indica si el cliente es un huésped repetido (1) o no (0)             |\n",
    "| previous_cancellations         | Número de reservas canceladas por el cliente antes de esta reserva   |\n",
    "| previous_bookings_not_canceled | Número de reservas no canceladas por el cliente antes de esta reserva |\n",
    "| reserved_room_type             | Tipo de habitación reservada                                          |\n",
    "| assigned_room_type             | Tipo de habitación asignada en la reserva                            |\n",
    "| booking_changes                | Número de cambios realizados en la reserva                           |\n",
    "| agent                          | Identificador del agente involucrado en la reserva                   |\n",
    "| company                        | Identificador de la compañía involucrada en la reserva               |\n",
    "| days_in_waiting_list           | Número de días que la reserva estuvo en lista de espera              |\n",
    "| customer_type                  | Tipo de cliente que realizó la reserva (Transient, Contract, Group, Transient-Party) |\n",
    "| adr                            | Tarifa promedio diaria pagada por la reserva                        |\n",
    "| required_car_parking_spaces    | Número de espacios de estacionamiento requeridos por el cliente      |\n",
    "| total_of_special_requests      | Número total de solicitudes especiales realizadas por el cliente     |\n",
    "| reservation_status             | Estado de la reserva (Check-Out: Salida, Canceled: Cancelada)         |\n",
    "| reservation_status_date        | Fecha del estado de la reserva                                       |\n"
   ]
  }
 ],
 "metadata": {
  "language_info": {
   "name": "python"
  }
 },
 "nbformat": 4,
 "nbformat_minor": 2
}
